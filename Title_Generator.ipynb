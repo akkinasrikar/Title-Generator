{
  "nbformat": 4,
  "nbformat_minor": 0,
  "metadata": {
    "accelerator": "GPU",
    "colab": {
      "name": "Title_Generator.ipynb",
      "provenance": [],
      "collapsed_sections": []
    },
    "kernelspec": {
      "display_name": "Python 3",
      "name": "python3"
    }
  },
  "cells": [
    {
      "cell_type": "code",
      "metadata": {
        "colab": {
          "base_uri": "https://localhost:8080/"
        },
        "id": "cL8k7tvjy77M",
        "outputId": "3e898493-e664-4a7f-ddd4-c91941c056ff"
      },
      "source": [
        "from google.colab import drive\r\n",
        "drive.mount('/content/gdrive')"
      ],
      "execution_count": 1,
      "outputs": [
        {
          "output_type": "stream",
          "text": [
            "Mounted at /content/gdrive\n"
          ],
          "name": "stdout"
        }
      ]
    },
    {
      "cell_type": "code",
      "metadata": {
        "id": "ATiFiljbxZCv"
      },
      "source": [
        "#import basic libraries\r\n",
        "import pandas as pd\r\n",
        "import string\r\n",
        "import numpy as np\r\n",
        "import json"
      ],
      "execution_count": 2,
      "outputs": []
    },
    {
      "cell_type": "code",
      "metadata": {
        "id": "AwF1LKUQx3gw"
      },
      "source": [
        "#import required kerals modules\r\n",
        "from keras.preprocessing.sequence import pad_sequences\r\n",
        "from keras.layers import Embedding, LSTM, Dense, Dropout\r\n",
        "from keras.preprocessing.text import Tokenizer\r\n",
        "from keras.callbacks import EarlyStopping\r\n",
        "from keras.models import Sequential\r\n",
        "import keras.utils as ut"
      ],
      "execution_count": 3,
      "outputs": []
    },
    {
      "cell_type": "code",
      "metadata": {
        "id": "zo56O1WRyIFW"
      },
      "source": [
        "#import required tf modules\r\n",
        "import tensorflow as tf"
      ],
      "execution_count": 4,
      "outputs": []
    },
    {
      "cell_type": "code",
      "metadata": {
        "id": "9P59dHMLyMqm"
      },
      "source": [
        "tf.random.set_seed(2)\r\n",
        "from numpy.random import seed\r\n",
        "seed(1)"
      ],
      "execution_count": 5,
      "outputs": []
    },
    {
      "cell_type": "code",
      "metadata": {
        "id": "e9pe_CkNyQFL"
      },
      "source": [
        "#load all datasets\r\n",
        "ds1 = pd.read_csv('/content/gdrive/MyDrive/Data/USvideos.csv')\r\n",
        "ds2 = pd.read_csv('/content/gdrive/MyDrive/Data/CAvideos.csv')\r\n",
        "ds3 = pd.read_csv('/content/gdrive/MyDrive/Data/GBvideos.csv')"
      ],
      "execution_count": 6,
      "outputs": []
    },
    {
      "cell_type": "code",
      "metadata": {
        "colab": {
          "base_uri": "https://localhost:8080/",
          "height": 501
        },
        "id": "dHhR-lR-ya-n",
        "outputId": "9e0a22b9-0fdc-468c-b57d-43f49cbfad1d"
      },
      "source": [
        "ds1.head()"
      ],
      "execution_count": 7,
      "outputs": [
        {
          "output_type": "execute_result",
          "data": {
            "text/html": [
              "<div>\n",
              "<style scoped>\n",
              "    .dataframe tbody tr th:only-of-type {\n",
              "        vertical-align: middle;\n",
              "    }\n",
              "\n",
              "    .dataframe tbody tr th {\n",
              "        vertical-align: top;\n",
              "    }\n",
              "\n",
              "    .dataframe thead th {\n",
              "        text-align: right;\n",
              "    }\n",
              "</style>\n",
              "<table border=\"1\" class=\"dataframe\">\n",
              "  <thead>\n",
              "    <tr style=\"text-align: right;\">\n",
              "      <th></th>\n",
              "      <th>video_id</th>\n",
              "      <th>trending_date</th>\n",
              "      <th>title</th>\n",
              "      <th>channel_title</th>\n",
              "      <th>category_id</th>\n",
              "      <th>publish_time</th>\n",
              "      <th>tags</th>\n",
              "      <th>views</th>\n",
              "      <th>likes</th>\n",
              "      <th>dislikes</th>\n",
              "      <th>comment_count</th>\n",
              "      <th>thumbnail_link</th>\n",
              "      <th>comments_disabled</th>\n",
              "      <th>ratings_disabled</th>\n",
              "      <th>video_error_or_removed</th>\n",
              "      <th>description</th>\n",
              "    </tr>\n",
              "  </thead>\n",
              "  <tbody>\n",
              "    <tr>\n",
              "      <th>0</th>\n",
              "      <td>2kyS6SvSYSE</td>\n",
              "      <td>17.14.11</td>\n",
              "      <td>WE WANT TO TALK ABOUT OUR MARRIAGE</td>\n",
              "      <td>CaseyNeistat</td>\n",
              "      <td>22</td>\n",
              "      <td>2017-11-13T17:13:01.000Z</td>\n",
              "      <td>SHANtell martin</td>\n",
              "      <td>748374</td>\n",
              "      <td>57527</td>\n",
              "      <td>2966</td>\n",
              "      <td>15954</td>\n",
              "      <td>https://i.ytimg.com/vi/2kyS6SvSYSE/default.jpg</td>\n",
              "      <td>False</td>\n",
              "      <td>False</td>\n",
              "      <td>False</td>\n",
              "      <td>SHANTELL'S CHANNEL - https://www.youtube.com/s...</td>\n",
              "    </tr>\n",
              "    <tr>\n",
              "      <th>1</th>\n",
              "      <td>1ZAPwfrtAFY</td>\n",
              "      <td>17.14.11</td>\n",
              "      <td>The Trump Presidency: Last Week Tonight with J...</td>\n",
              "      <td>LastWeekTonight</td>\n",
              "      <td>24</td>\n",
              "      <td>2017-11-13T07:30:00.000Z</td>\n",
              "      <td>last week tonight trump presidency|\"last week ...</td>\n",
              "      <td>2418783</td>\n",
              "      <td>97185</td>\n",
              "      <td>6146</td>\n",
              "      <td>12703</td>\n",
              "      <td>https://i.ytimg.com/vi/1ZAPwfrtAFY/default.jpg</td>\n",
              "      <td>False</td>\n",
              "      <td>False</td>\n",
              "      <td>False</td>\n",
              "      <td>One year after the presidential election, John...</td>\n",
              "    </tr>\n",
              "    <tr>\n",
              "      <th>2</th>\n",
              "      <td>5qpjK5DgCt4</td>\n",
              "      <td>17.14.11</td>\n",
              "      <td>Racist Superman | Rudy Mancuso, King Bach &amp; Le...</td>\n",
              "      <td>Rudy Mancuso</td>\n",
              "      <td>23</td>\n",
              "      <td>2017-11-12T19:05:24.000Z</td>\n",
              "      <td>racist superman|\"rudy\"|\"mancuso\"|\"king\"|\"bach\"...</td>\n",
              "      <td>3191434</td>\n",
              "      <td>146033</td>\n",
              "      <td>5339</td>\n",
              "      <td>8181</td>\n",
              "      <td>https://i.ytimg.com/vi/5qpjK5DgCt4/default.jpg</td>\n",
              "      <td>False</td>\n",
              "      <td>False</td>\n",
              "      <td>False</td>\n",
              "      <td>WATCH MY PREVIOUS VIDEO ▶ \\n\\nSUBSCRIBE ► http...</td>\n",
              "    </tr>\n",
              "    <tr>\n",
              "      <th>3</th>\n",
              "      <td>puqaWrEC7tY</td>\n",
              "      <td>17.14.11</td>\n",
              "      <td>Nickelback Lyrics: Real or Fake?</td>\n",
              "      <td>Good Mythical Morning</td>\n",
              "      <td>24</td>\n",
              "      <td>2017-11-13T11:00:04.000Z</td>\n",
              "      <td>rhett and link|\"gmm\"|\"good mythical morning\"|\"...</td>\n",
              "      <td>343168</td>\n",
              "      <td>10172</td>\n",
              "      <td>666</td>\n",
              "      <td>2146</td>\n",
              "      <td>https://i.ytimg.com/vi/puqaWrEC7tY/default.jpg</td>\n",
              "      <td>False</td>\n",
              "      <td>False</td>\n",
              "      <td>False</td>\n",
              "      <td>Today we find out if Link is a Nickelback amat...</td>\n",
              "    </tr>\n",
              "    <tr>\n",
              "      <th>4</th>\n",
              "      <td>d380meD0W0M</td>\n",
              "      <td>17.14.11</td>\n",
              "      <td>I Dare You: GOING BALD!?</td>\n",
              "      <td>nigahiga</td>\n",
              "      <td>24</td>\n",
              "      <td>2017-11-12T18:01:41.000Z</td>\n",
              "      <td>ryan|\"higa\"|\"higatv\"|\"nigahiga\"|\"i dare you\"|\"...</td>\n",
              "      <td>2095731</td>\n",
              "      <td>132235</td>\n",
              "      <td>1989</td>\n",
              "      <td>17518</td>\n",
              "      <td>https://i.ytimg.com/vi/d380meD0W0M/default.jpg</td>\n",
              "      <td>False</td>\n",
              "      <td>False</td>\n",
              "      <td>False</td>\n",
              "      <td>I know it's been a while since we did this sho...</td>\n",
              "    </tr>\n",
              "  </tbody>\n",
              "</table>\n",
              "</div>"
            ],
            "text/plain": [
              "      video_id  ...                                        description\n",
              "0  2kyS6SvSYSE  ...  SHANTELL'S CHANNEL - https://www.youtube.com/s...\n",
              "1  1ZAPwfrtAFY  ...  One year after the presidential election, John...\n",
              "2  5qpjK5DgCt4  ...  WATCH MY PREVIOUS VIDEO ▶ \\n\\nSUBSCRIBE ► http...\n",
              "3  puqaWrEC7tY  ...  Today we find out if Link is a Nickelback amat...\n",
              "4  d380meD0W0M  ...  I know it's been a while since we did this sho...\n",
              "\n",
              "[5 rows x 16 columns]"
            ]
          },
          "metadata": {
            "tags": []
          },
          "execution_count": 7
        }
      ]
    },
    {
      "cell_type": "code",
      "metadata": {
        "colab": {
          "base_uri": "https://localhost:8080/",
          "height": 551
        },
        "id": "lQk8wfcaz3lj",
        "outputId": "eb83166c-ea29-4273-98df-ec183df98aa9"
      },
      "source": [
        "ds2.head()"
      ],
      "execution_count": 8,
      "outputs": [
        {
          "output_type": "execute_result",
          "data": {
            "text/html": [
              "<div>\n",
              "<style scoped>\n",
              "    .dataframe tbody tr th:only-of-type {\n",
              "        vertical-align: middle;\n",
              "    }\n",
              "\n",
              "    .dataframe tbody tr th {\n",
              "        vertical-align: top;\n",
              "    }\n",
              "\n",
              "    .dataframe thead th {\n",
              "        text-align: right;\n",
              "    }\n",
              "</style>\n",
              "<table border=\"1\" class=\"dataframe\">\n",
              "  <thead>\n",
              "    <tr style=\"text-align: right;\">\n",
              "      <th></th>\n",
              "      <th>video_id</th>\n",
              "      <th>trending_date</th>\n",
              "      <th>title</th>\n",
              "      <th>channel_title</th>\n",
              "      <th>category_id</th>\n",
              "      <th>publish_time</th>\n",
              "      <th>tags</th>\n",
              "      <th>views</th>\n",
              "      <th>likes</th>\n",
              "      <th>dislikes</th>\n",
              "      <th>comment_count</th>\n",
              "      <th>thumbnail_link</th>\n",
              "      <th>comments_disabled</th>\n",
              "      <th>ratings_disabled</th>\n",
              "      <th>video_error_or_removed</th>\n",
              "      <th>description</th>\n",
              "    </tr>\n",
              "  </thead>\n",
              "  <tbody>\n",
              "    <tr>\n",
              "      <th>0</th>\n",
              "      <td>n1WpP7iowLc</td>\n",
              "      <td>17.14.11</td>\n",
              "      <td>Eminem - Walk On Water (Audio) ft. Beyoncé</td>\n",
              "      <td>EminemVEVO</td>\n",
              "      <td>10</td>\n",
              "      <td>2017-11-10T17:00:03.000Z</td>\n",
              "      <td>Eminem|\"Walk\"|\"On\"|\"Water\"|\"Aftermath/Shady/In...</td>\n",
              "      <td>17158579</td>\n",
              "      <td>787425</td>\n",
              "      <td>43420</td>\n",
              "      <td>125882</td>\n",
              "      <td>https://i.ytimg.com/vi/n1WpP7iowLc/default.jpg</td>\n",
              "      <td>False</td>\n",
              "      <td>False</td>\n",
              "      <td>False</td>\n",
              "      <td>Eminem's new track Walk on Water ft. Beyoncé i...</td>\n",
              "    </tr>\n",
              "    <tr>\n",
              "      <th>1</th>\n",
              "      <td>0dBIkQ4Mz1M</td>\n",
              "      <td>17.14.11</td>\n",
              "      <td>PLUSH - Bad Unboxing Fan Mail</td>\n",
              "      <td>iDubbbzTV</td>\n",
              "      <td>23</td>\n",
              "      <td>2017-11-13T17:00:00.000Z</td>\n",
              "      <td>plush|\"bad unboxing\"|\"unboxing\"|\"fan mail\"|\"id...</td>\n",
              "      <td>1014651</td>\n",
              "      <td>127794</td>\n",
              "      <td>1688</td>\n",
              "      <td>13030</td>\n",
              "      <td>https://i.ytimg.com/vi/0dBIkQ4Mz1M/default.jpg</td>\n",
              "      <td>False</td>\n",
              "      <td>False</td>\n",
              "      <td>False</td>\n",
              "      <td>STill got a lot of packages. Probably will las...</td>\n",
              "    </tr>\n",
              "    <tr>\n",
              "      <th>2</th>\n",
              "      <td>5qpjK5DgCt4</td>\n",
              "      <td>17.14.11</td>\n",
              "      <td>Racist Superman | Rudy Mancuso, King Bach &amp; Le...</td>\n",
              "      <td>Rudy Mancuso</td>\n",
              "      <td>23</td>\n",
              "      <td>2017-11-12T19:05:24.000Z</td>\n",
              "      <td>racist superman|\"rudy\"|\"mancuso\"|\"king\"|\"bach\"...</td>\n",
              "      <td>3191434</td>\n",
              "      <td>146035</td>\n",
              "      <td>5339</td>\n",
              "      <td>8181</td>\n",
              "      <td>https://i.ytimg.com/vi/5qpjK5DgCt4/default.jpg</td>\n",
              "      <td>False</td>\n",
              "      <td>False</td>\n",
              "      <td>False</td>\n",
              "      <td>WATCH MY PREVIOUS VIDEO ▶ \\n\\nSUBSCRIBE ► http...</td>\n",
              "    </tr>\n",
              "    <tr>\n",
              "      <th>3</th>\n",
              "      <td>d380meD0W0M</td>\n",
              "      <td>17.14.11</td>\n",
              "      <td>I Dare You: GOING BALD!?</td>\n",
              "      <td>nigahiga</td>\n",
              "      <td>24</td>\n",
              "      <td>2017-11-12T18:01:41.000Z</td>\n",
              "      <td>ryan|\"higa\"|\"higatv\"|\"nigahiga\"|\"i dare you\"|\"...</td>\n",
              "      <td>2095828</td>\n",
              "      <td>132239</td>\n",
              "      <td>1989</td>\n",
              "      <td>17518</td>\n",
              "      <td>https://i.ytimg.com/vi/d380meD0W0M/default.jpg</td>\n",
              "      <td>False</td>\n",
              "      <td>False</td>\n",
              "      <td>False</td>\n",
              "      <td>I know it's been a while since we did this sho...</td>\n",
              "    </tr>\n",
              "    <tr>\n",
              "      <th>4</th>\n",
              "      <td>2Vv-BfVoq4g</td>\n",
              "      <td>17.14.11</td>\n",
              "      <td>Ed Sheeran - Perfect (Official Music Video)</td>\n",
              "      <td>Ed Sheeran</td>\n",
              "      <td>10</td>\n",
              "      <td>2017-11-09T11:04:14.000Z</td>\n",
              "      <td>edsheeran|\"ed sheeran\"|\"acoustic\"|\"live\"|\"cove...</td>\n",
              "      <td>33523622</td>\n",
              "      <td>1634130</td>\n",
              "      <td>21082</td>\n",
              "      <td>85067</td>\n",
              "      <td>https://i.ytimg.com/vi/2Vv-BfVoq4g/default.jpg</td>\n",
              "      <td>False</td>\n",
              "      <td>False</td>\n",
              "      <td>False</td>\n",
              "      <td>🎧: https://ad.gt/yt-perfect\\n💰: https://atlant...</td>\n",
              "    </tr>\n",
              "  </tbody>\n",
              "</table>\n",
              "</div>"
            ],
            "text/plain": [
              "      video_id  ...                                        description\n",
              "0  n1WpP7iowLc  ...  Eminem's new track Walk on Water ft. Beyoncé i...\n",
              "1  0dBIkQ4Mz1M  ...  STill got a lot of packages. Probably will las...\n",
              "2  5qpjK5DgCt4  ...  WATCH MY PREVIOUS VIDEO ▶ \\n\\nSUBSCRIBE ► http...\n",
              "3  d380meD0W0M  ...  I know it's been a while since we did this sho...\n",
              "4  2Vv-BfVoq4g  ...  🎧: https://ad.gt/yt-perfect\\n💰: https://atlant...\n",
              "\n",
              "[5 rows x 16 columns]"
            ]
          },
          "metadata": {
            "tags": []
          },
          "execution_count": 8
        }
      ]
    },
    {
      "cell_type": "code",
      "metadata": {
        "colab": {
          "base_uri": "https://localhost:8080/",
          "height": 518
        },
        "id": "pPLMGJ1F0Ckp",
        "outputId": "5e117956-514b-46c8-a1ee-01e4626185ac"
      },
      "source": [
        "ds3.head()"
      ],
      "execution_count": 9,
      "outputs": [
        {
          "output_type": "execute_result",
          "data": {
            "text/html": [
              "<div>\n",
              "<style scoped>\n",
              "    .dataframe tbody tr th:only-of-type {\n",
              "        vertical-align: middle;\n",
              "    }\n",
              "\n",
              "    .dataframe tbody tr th {\n",
              "        vertical-align: top;\n",
              "    }\n",
              "\n",
              "    .dataframe thead th {\n",
              "        text-align: right;\n",
              "    }\n",
              "</style>\n",
              "<table border=\"1\" class=\"dataframe\">\n",
              "  <thead>\n",
              "    <tr style=\"text-align: right;\">\n",
              "      <th></th>\n",
              "      <th>video_id</th>\n",
              "      <th>trending_date</th>\n",
              "      <th>title</th>\n",
              "      <th>channel_title</th>\n",
              "      <th>category_id</th>\n",
              "      <th>publish_time</th>\n",
              "      <th>tags</th>\n",
              "      <th>views</th>\n",
              "      <th>likes</th>\n",
              "      <th>dislikes</th>\n",
              "      <th>comment_count</th>\n",
              "      <th>thumbnail_link</th>\n",
              "      <th>comments_disabled</th>\n",
              "      <th>ratings_disabled</th>\n",
              "      <th>video_error_or_removed</th>\n",
              "      <th>description</th>\n",
              "    </tr>\n",
              "  </thead>\n",
              "  <tbody>\n",
              "    <tr>\n",
              "      <th>0</th>\n",
              "      <td>Jw1Y-zhQURU</td>\n",
              "      <td>17.14.11</td>\n",
              "      <td>John Lewis Christmas Ad 2017 - #MozTheMonster</td>\n",
              "      <td>John Lewis</td>\n",
              "      <td>26</td>\n",
              "      <td>2017-11-10T07:38:29.000Z</td>\n",
              "      <td>christmas|\"john lewis christmas\"|\"john lewis\"|...</td>\n",
              "      <td>7224515</td>\n",
              "      <td>55681</td>\n",
              "      <td>10247</td>\n",
              "      <td>9479</td>\n",
              "      <td>https://i.ytimg.com/vi/Jw1Y-zhQURU/default.jpg</td>\n",
              "      <td>False</td>\n",
              "      <td>False</td>\n",
              "      <td>False</td>\n",
              "      <td>Click here to continue the story and make your...</td>\n",
              "    </tr>\n",
              "    <tr>\n",
              "      <th>1</th>\n",
              "      <td>3s1rvMFUweQ</td>\n",
              "      <td>17.14.11</td>\n",
              "      <td>Taylor Swift: …Ready for It? (Live) - SNL</td>\n",
              "      <td>Saturday Night Live</td>\n",
              "      <td>24</td>\n",
              "      <td>2017-11-12T06:24:44.000Z</td>\n",
              "      <td>SNL|\"Saturday Night Live\"|\"SNL Season 43\"|\"Epi...</td>\n",
              "      <td>1053632</td>\n",
              "      <td>25561</td>\n",
              "      <td>2294</td>\n",
              "      <td>2757</td>\n",
              "      <td>https://i.ytimg.com/vi/3s1rvMFUweQ/default.jpg</td>\n",
              "      <td>False</td>\n",
              "      <td>False</td>\n",
              "      <td>False</td>\n",
              "      <td>Musical guest Taylor Swift performs …Ready for...</td>\n",
              "    </tr>\n",
              "    <tr>\n",
              "      <th>2</th>\n",
              "      <td>n1WpP7iowLc</td>\n",
              "      <td>17.14.11</td>\n",
              "      <td>Eminem - Walk On Water (Audio) ft. Beyoncé</td>\n",
              "      <td>EminemVEVO</td>\n",
              "      <td>10</td>\n",
              "      <td>2017-11-10T17:00:03.000Z</td>\n",
              "      <td>Eminem|\"Walk\"|\"On\"|\"Water\"|\"Aftermath/Shady/In...</td>\n",
              "      <td>17158579</td>\n",
              "      <td>787420</td>\n",
              "      <td>43420</td>\n",
              "      <td>125882</td>\n",
              "      <td>https://i.ytimg.com/vi/n1WpP7iowLc/default.jpg</td>\n",
              "      <td>False</td>\n",
              "      <td>False</td>\n",
              "      <td>False</td>\n",
              "      <td>Eminem's new track Walk on Water ft. Beyoncé i...</td>\n",
              "    </tr>\n",
              "    <tr>\n",
              "      <th>3</th>\n",
              "      <td>PUTEiSjKwJU</td>\n",
              "      <td>17.14.11</td>\n",
              "      <td>Goals from Salford City vs Class of 92 and Fri...</td>\n",
              "      <td>Salford City Football Club</td>\n",
              "      <td>17</td>\n",
              "      <td>2017-11-13T02:30:38.000Z</td>\n",
              "      <td>Salford City FC|\"Salford City\"|\"Salford\"|\"Clas...</td>\n",
              "      <td>27833</td>\n",
              "      <td>193</td>\n",
              "      <td>12</td>\n",
              "      <td>37</td>\n",
              "      <td>https://i.ytimg.com/vi/PUTEiSjKwJU/default.jpg</td>\n",
              "      <td>False</td>\n",
              "      <td>False</td>\n",
              "      <td>False</td>\n",
              "      <td>Salford drew 4-4 against the Class of 92 and F...</td>\n",
              "    </tr>\n",
              "    <tr>\n",
              "      <th>4</th>\n",
              "      <td>rHwDegptbI4</td>\n",
              "      <td>17.14.11</td>\n",
              "      <td>Dashcam captures truck's near miss with child ...</td>\n",
              "      <td>Cute Girl Videos</td>\n",
              "      <td>25</td>\n",
              "      <td>2017-11-13T01:45:13.000Z</td>\n",
              "      <td>[none]</td>\n",
              "      <td>9815</td>\n",
              "      <td>30</td>\n",
              "      <td>2</td>\n",
              "      <td>30</td>\n",
              "      <td>https://i.ytimg.com/vi/rHwDegptbI4/default.jpg</td>\n",
              "      <td>False</td>\n",
              "      <td>False</td>\n",
              "      <td>False</td>\n",
              "      <td>Dashcam captures truck's near miss with child ...</td>\n",
              "    </tr>\n",
              "  </tbody>\n",
              "</table>\n",
              "</div>"
            ],
            "text/plain": [
              "      video_id  ...                                        description\n",
              "0  Jw1Y-zhQURU  ...  Click here to continue the story and make your...\n",
              "1  3s1rvMFUweQ  ...  Musical guest Taylor Swift performs …Ready for...\n",
              "2  n1WpP7iowLc  ...  Eminem's new track Walk on Water ft. Beyoncé i...\n",
              "3  PUTEiSjKwJU  ...  Salford drew 4-4 against the Class of 92 and F...\n",
              "4  rHwDegptbI4  ...  Dashcam captures truck's near miss with child ...\n",
              "\n",
              "[5 rows x 16 columns]"
            ]
          },
          "metadata": {
            "tags": []
          },
          "execution_count": 9
        }
      ]
    },
    {
      "cell_type": "code",
      "metadata": {
        "id": "B3oXt8Qh0Gtu"
      },
      "source": [
        "#load the json data\r\n",
        "js1 = json.load(open('/content/gdrive/MyDrive/Data/US_category_id.json'))\r\n",
        "js2 = json.load(open('/content/gdrive/MyDrive/Data/CA_category_id.json'))\r\n",
        "js3 = json.load(open('/content/gdrive/MyDrive/Data/GB_category_id.json'))"
      ],
      "execution_count": 10,
      "outputs": []
    },
    {
      "cell_type": "code",
      "metadata": {
        "colab": {
          "base_uri": "https://localhost:8080/"
        },
        "id": "yDw9-r5C-plt",
        "outputId": "643445da-5326-43cf-9e98-ebf8d2c8c6ff"
      },
      "source": [
        "js1['items']"
      ],
      "execution_count": 11,
      "outputs": [
        {
          "output_type": "execute_result",
          "data": {
            "text/plain": [
              "[{'etag': '\"m2yskBQFythfE4irbTIeOgYYfBU/Xy1mB4_yLrHy_BmKmPBggty2mZQ\"',\n",
              "  'id': '1',\n",
              "  'kind': 'youtube#videoCategory',\n",
              "  'snippet': {'assignable': True,\n",
              "   'channelId': 'UCBR8-60-B28hp2BmDPdntcQ',\n",
              "   'title': 'Film & Animation'}},\n",
              " {'etag': '\"m2yskBQFythfE4irbTIeOgYYfBU/UZ1oLIIz2dxIhO45ZTFR3a3NyTA\"',\n",
              "  'id': '2',\n",
              "  'kind': 'youtube#videoCategory',\n",
              "  'snippet': {'assignable': True,\n",
              "   'channelId': 'UCBR8-60-B28hp2BmDPdntcQ',\n",
              "   'title': 'Autos & Vehicles'}},\n",
              " {'etag': '\"m2yskBQFythfE4irbTIeOgYYfBU/nqRIq97-xe5XRZTxbknKFVe5Lmg\"',\n",
              "  'id': '10',\n",
              "  'kind': 'youtube#videoCategory',\n",
              "  'snippet': {'assignable': True,\n",
              "   'channelId': 'UCBR8-60-B28hp2BmDPdntcQ',\n",
              "   'title': 'Music'}},\n",
              " {'etag': '\"m2yskBQFythfE4irbTIeOgYYfBU/HwXKamM1Q20q9BN-oBJavSGkfDI\"',\n",
              "  'id': '15',\n",
              "  'kind': 'youtube#videoCategory',\n",
              "  'snippet': {'assignable': True,\n",
              "   'channelId': 'UCBR8-60-B28hp2BmDPdntcQ',\n",
              "   'title': 'Pets & Animals'}},\n",
              " {'etag': '\"m2yskBQFythfE4irbTIeOgYYfBU/9GQMSRjrZdHeb1OEM1XVQ9zbGec\"',\n",
              "  'id': '17',\n",
              "  'kind': 'youtube#videoCategory',\n",
              "  'snippet': {'assignable': True,\n",
              "   'channelId': 'UCBR8-60-B28hp2BmDPdntcQ',\n",
              "   'title': 'Sports'}},\n",
              " {'etag': '\"m2yskBQFythfE4irbTIeOgYYfBU/FJwVpGCVZ1yiJrqZbpqe68Sy_OE\"',\n",
              "  'id': '18',\n",
              "  'kind': 'youtube#videoCategory',\n",
              "  'snippet': {'assignable': False,\n",
              "   'channelId': 'UCBR8-60-B28hp2BmDPdntcQ',\n",
              "   'title': 'Short Movies'}},\n",
              " {'etag': '\"m2yskBQFythfE4irbTIeOgYYfBU/M-3iD9dwK7YJCafRf_DkLN8CouA\"',\n",
              "  'id': '19',\n",
              "  'kind': 'youtube#videoCategory',\n",
              "  'snippet': {'assignable': True,\n",
              "   'channelId': 'UCBR8-60-B28hp2BmDPdntcQ',\n",
              "   'title': 'Travel & Events'}},\n",
              " {'etag': '\"m2yskBQFythfE4irbTIeOgYYfBU/WmA0qYEfjWsAoyJFSw2zinhn2wM\"',\n",
              "  'id': '20',\n",
              "  'kind': 'youtube#videoCategory',\n",
              "  'snippet': {'assignable': True,\n",
              "   'channelId': 'UCBR8-60-B28hp2BmDPdntcQ',\n",
              "   'title': 'Gaming'}},\n",
              " {'etag': '\"m2yskBQFythfE4irbTIeOgYYfBU/EapFaGYG7K0StIXVf8aba249tdM\"',\n",
              "  'id': '21',\n",
              "  'kind': 'youtube#videoCategory',\n",
              "  'snippet': {'assignable': False,\n",
              "   'channelId': 'UCBR8-60-B28hp2BmDPdntcQ',\n",
              "   'title': 'Videoblogging'}},\n",
              " {'etag': '\"m2yskBQFythfE4irbTIeOgYYfBU/xId8RX7vRN8rqkbYZbNIytUQDRo\"',\n",
              "  'id': '22',\n",
              "  'kind': 'youtube#videoCategory',\n",
              "  'snippet': {'assignable': True,\n",
              "   'channelId': 'UCBR8-60-B28hp2BmDPdntcQ',\n",
              "   'title': 'People & Blogs'}},\n",
              " {'etag': '\"m2yskBQFythfE4irbTIeOgYYfBU/G9LHzQmx44rX2S5yaga_Aqtwz8M\"',\n",
              "  'id': '23',\n",
              "  'kind': 'youtube#videoCategory',\n",
              "  'snippet': {'assignable': True,\n",
              "   'channelId': 'UCBR8-60-B28hp2BmDPdntcQ',\n",
              "   'title': 'Comedy'}},\n",
              " {'etag': '\"m2yskBQFythfE4irbTIeOgYYfBU/UVB9oxX2Bvqa_w_y3vXSLVK5E_s\"',\n",
              "  'id': '24',\n",
              "  'kind': 'youtube#videoCategory',\n",
              "  'snippet': {'assignable': True,\n",
              "   'channelId': 'UCBR8-60-B28hp2BmDPdntcQ',\n",
              "   'title': 'Entertainment'}},\n",
              " {'etag': '\"m2yskBQFythfE4irbTIeOgYYfBU/QiLK0ZIrFoORdk_g2l_XR_ECjDc\"',\n",
              "  'id': '25',\n",
              "  'kind': 'youtube#videoCategory',\n",
              "  'snippet': {'assignable': True,\n",
              "   'channelId': 'UCBR8-60-B28hp2BmDPdntcQ',\n",
              "   'title': 'News & Politics'}},\n",
              " {'etag': '\"m2yskBQFythfE4irbTIeOgYYfBU/r6Ck6Z0_L0rG37VJQR200SGNA_w\"',\n",
              "  'id': '26',\n",
              "  'kind': 'youtube#videoCategory',\n",
              "  'snippet': {'assignable': True,\n",
              "   'channelId': 'UCBR8-60-B28hp2BmDPdntcQ',\n",
              "   'title': 'Howto & Style'}},\n",
              " {'etag': '\"m2yskBQFythfE4irbTIeOgYYfBU/EoYkczo9I3RCf96RveKTOgOPkUM\"',\n",
              "  'id': '27',\n",
              "  'kind': 'youtube#videoCategory',\n",
              "  'snippet': {'assignable': True,\n",
              "   'channelId': 'UCBR8-60-B28hp2BmDPdntcQ',\n",
              "   'title': 'Education'}},\n",
              " {'etag': '\"m2yskBQFythfE4irbTIeOgYYfBU/w5HjcTD82G_XA3xBctS30zS-JpQ\"',\n",
              "  'id': '28',\n",
              "  'kind': 'youtube#videoCategory',\n",
              "  'snippet': {'assignable': True,\n",
              "   'channelId': 'UCBR8-60-B28hp2BmDPdntcQ',\n",
              "   'title': 'Science & Technology'}},\n",
              " {'etag': '\"m2yskBQFythfE4irbTIeOgYYfBU/SalkJoBWq_smSEqiAx_qyri6Wa8\"',\n",
              "  'id': '29',\n",
              "  'kind': 'youtube#videoCategory',\n",
              "  'snippet': {'assignable': True,\n",
              "   'channelId': 'UCBR8-60-B28hp2BmDPdntcQ',\n",
              "   'title': 'Nonprofits & Activism'}},\n",
              " {'etag': '\"m2yskBQFythfE4irbTIeOgYYfBU/lL7uWDr_071CHxifjYG1tJrp4Uo\"',\n",
              "  'id': '30',\n",
              "  'kind': 'youtube#videoCategory',\n",
              "  'snippet': {'assignable': False,\n",
              "   'channelId': 'UCBR8-60-B28hp2BmDPdntcQ',\n",
              "   'title': 'Movies'}},\n",
              " {'etag': '\"m2yskBQFythfE4irbTIeOgYYfBU/WnuVfjO-PyFLO7NTRQIbrGE62nk\"',\n",
              "  'id': '31',\n",
              "  'kind': 'youtube#videoCategory',\n",
              "  'snippet': {'assignable': False,\n",
              "   'channelId': 'UCBR8-60-B28hp2BmDPdntcQ',\n",
              "   'title': 'Anime/Animation'}},\n",
              " {'etag': '\"m2yskBQFythfE4irbTIeOgYYfBU/ctpH2hGA_UZ3volJT_FTlOg9M00\"',\n",
              "  'id': '32',\n",
              "  'kind': 'youtube#videoCategory',\n",
              "  'snippet': {'assignable': False,\n",
              "   'channelId': 'UCBR8-60-B28hp2BmDPdntcQ',\n",
              "   'title': 'Action/Adventure'}},\n",
              " {'etag': '\"m2yskBQFythfE4irbTIeOgYYfBU/L0kR3-g1BAo5UD1PLVbQ7LkkDtQ\"',\n",
              "  'id': '33',\n",
              "  'kind': 'youtube#videoCategory',\n",
              "  'snippet': {'assignable': False,\n",
              "   'channelId': 'UCBR8-60-B28hp2BmDPdntcQ',\n",
              "   'title': 'Classics'}},\n",
              " {'etag': '\"m2yskBQFythfE4irbTIeOgYYfBU/pUZOAC_s9sfiwar639qr_wAB-aI\"',\n",
              "  'id': '34',\n",
              "  'kind': 'youtube#videoCategory',\n",
              "  'snippet': {'assignable': False,\n",
              "   'channelId': 'UCBR8-60-B28hp2BmDPdntcQ',\n",
              "   'title': 'Comedy'}},\n",
              " {'etag': '\"m2yskBQFythfE4irbTIeOgYYfBU/Xb5JLhtyNRN3AQq021Ds-OV50Jk\"',\n",
              "  'id': '35',\n",
              "  'kind': 'youtube#videoCategory',\n",
              "  'snippet': {'assignable': False,\n",
              "   'channelId': 'UCBR8-60-B28hp2BmDPdntcQ',\n",
              "   'title': 'Documentary'}},\n",
              " {'etag': '\"m2yskBQFythfE4irbTIeOgYYfBU/u8WXzF4HIhtEi805__sqjuA4lEk\"',\n",
              "  'id': '36',\n",
              "  'kind': 'youtube#videoCategory',\n",
              "  'snippet': {'assignable': False,\n",
              "   'channelId': 'UCBR8-60-B28hp2BmDPdntcQ',\n",
              "   'title': 'Drama'}},\n",
              " {'etag': '\"m2yskBQFythfE4irbTIeOgYYfBU/D04PP4Gr7wc4IV_O9G66Z4A8KWQ\"',\n",
              "  'id': '37',\n",
              "  'kind': 'youtube#videoCategory',\n",
              "  'snippet': {'assignable': False,\n",
              "   'channelId': 'UCBR8-60-B28hp2BmDPdntcQ',\n",
              "   'title': 'Family'}},\n",
              " {'etag': '\"m2yskBQFythfE4irbTIeOgYYfBU/i5-_AceGXQCEEMWU0V8CcQm_vLQ\"',\n",
              "  'id': '38',\n",
              "  'kind': 'youtube#videoCategory',\n",
              "  'snippet': {'assignable': False,\n",
              "   'channelId': 'UCBR8-60-B28hp2BmDPdntcQ',\n",
              "   'title': 'Foreign'}},\n",
              " {'etag': '\"m2yskBQFythfE4irbTIeOgYYfBU/rtlxd0zOixA9QHdIZB26-St5qgQ\"',\n",
              "  'id': '39',\n",
              "  'kind': 'youtube#videoCategory',\n",
              "  'snippet': {'assignable': False,\n",
              "   'channelId': 'UCBR8-60-B28hp2BmDPdntcQ',\n",
              "   'title': 'Horror'}},\n",
              " {'etag': '\"m2yskBQFythfE4irbTIeOgYYfBU/N1TrDFLRppxZgBowCJfJCvh0Dpg\"',\n",
              "  'id': '40',\n",
              "  'kind': 'youtube#videoCategory',\n",
              "  'snippet': {'assignable': False,\n",
              "   'channelId': 'UCBR8-60-B28hp2BmDPdntcQ',\n",
              "   'title': 'Sci-Fi/Fantasy'}},\n",
              " {'etag': '\"m2yskBQFythfE4irbTIeOgYYfBU/7UMGi6zRySqXopr_rv4sZq6Za2E\"',\n",
              "  'id': '41',\n",
              "  'kind': 'youtube#videoCategory',\n",
              "  'snippet': {'assignable': False,\n",
              "   'channelId': 'UCBR8-60-B28hp2BmDPdntcQ',\n",
              "   'title': 'Thriller'}},\n",
              " {'etag': '\"m2yskBQFythfE4irbTIeOgYYfBU/RScXhi324h8usyIetreAVb-uKeM\"',\n",
              "  'id': '42',\n",
              "  'kind': 'youtube#videoCategory',\n",
              "  'snippet': {'assignable': False,\n",
              "   'channelId': 'UCBR8-60-B28hp2BmDPdntcQ',\n",
              "   'title': 'Shorts'}},\n",
              " {'etag': '\"m2yskBQFythfE4irbTIeOgYYfBU/0n9MJVCDLpA8q7aiGVrFsuFsd0A\"',\n",
              "  'id': '43',\n",
              "  'kind': 'youtube#videoCategory',\n",
              "  'snippet': {'assignable': False,\n",
              "   'channelId': 'UCBR8-60-B28hp2BmDPdntcQ',\n",
              "   'title': 'Shows'}},\n",
              " {'etag': '\"m2yskBQFythfE4irbTIeOgYYfBU/x5NxSf5fz8hn4loSN4rvhwzD_pY\"',\n",
              "  'id': '44',\n",
              "  'kind': 'youtube#videoCategory',\n",
              "  'snippet': {'assignable': False,\n",
              "   'channelId': 'UCBR8-60-B28hp2BmDPdntcQ',\n",
              "   'title': 'Trailers'}}]"
            ]
          },
          "metadata": {
            "tags": []
          },
          "execution_count": 11
        }
      ]
    },
    {
      "cell_type": "code",
      "metadata": {
        "id": "u3GJ3sIR-3Sv"
      },
      "source": [
        "#extracting categorys from json data\r\n",
        "def category_extractor(data):\r\n",
        "  i_d=[data['items'][i]['id'] for i in range(len(data['items']))]\r\n",
        "  title = [data['items'][i]['snippet'][\"title\"] for i in range(len(data['items']))]\r\n",
        "  i_d=list(map(int,i_d))\r\n",
        "  category=zip(i_d,title)\r\n",
        "  category=dict(category)\r\n",
        "  return category"
      ],
      "execution_count": 12,
      "outputs": []
    },
    {
      "cell_type": "code",
      "metadata": {
        "id": "Q6MxHTKZ_NGC"
      },
      "source": [
        "#creating new column in ds data files\r\n",
        "ds1['category_title']=ds1['category_id'].map(category_extractor(js1))\r\n",
        "ds2['category_title']=ds2['category_id'].map(category_extractor(js2))\r\n",
        "ds3['category_title']=ds3['category_id'].map(category_extractor(js3))"
      ],
      "execution_count": 13,
      "outputs": []
    },
    {
      "cell_type": "code",
      "metadata": {
        "colab": {
          "base_uri": "https://localhost:8080/",
          "height": 501
        },
        "id": "XYlPdzX2AxU-",
        "outputId": "ac99efa1-5c0c-4767-b876-6ee2a0592482"
      },
      "source": [
        "ds1.head()"
      ],
      "execution_count": 14,
      "outputs": [
        {
          "output_type": "execute_result",
          "data": {
            "text/html": [
              "<div>\n",
              "<style scoped>\n",
              "    .dataframe tbody tr th:only-of-type {\n",
              "        vertical-align: middle;\n",
              "    }\n",
              "\n",
              "    .dataframe tbody tr th {\n",
              "        vertical-align: top;\n",
              "    }\n",
              "\n",
              "    .dataframe thead th {\n",
              "        text-align: right;\n",
              "    }\n",
              "</style>\n",
              "<table border=\"1\" class=\"dataframe\">\n",
              "  <thead>\n",
              "    <tr style=\"text-align: right;\">\n",
              "      <th></th>\n",
              "      <th>video_id</th>\n",
              "      <th>trending_date</th>\n",
              "      <th>title</th>\n",
              "      <th>channel_title</th>\n",
              "      <th>category_id</th>\n",
              "      <th>publish_time</th>\n",
              "      <th>tags</th>\n",
              "      <th>views</th>\n",
              "      <th>likes</th>\n",
              "      <th>dislikes</th>\n",
              "      <th>comment_count</th>\n",
              "      <th>thumbnail_link</th>\n",
              "      <th>comments_disabled</th>\n",
              "      <th>ratings_disabled</th>\n",
              "      <th>video_error_or_removed</th>\n",
              "      <th>description</th>\n",
              "      <th>category_title</th>\n",
              "    </tr>\n",
              "  </thead>\n",
              "  <tbody>\n",
              "    <tr>\n",
              "      <th>0</th>\n",
              "      <td>2kyS6SvSYSE</td>\n",
              "      <td>17.14.11</td>\n",
              "      <td>WE WANT TO TALK ABOUT OUR MARRIAGE</td>\n",
              "      <td>CaseyNeistat</td>\n",
              "      <td>22</td>\n",
              "      <td>2017-11-13T17:13:01.000Z</td>\n",
              "      <td>SHANtell martin</td>\n",
              "      <td>748374</td>\n",
              "      <td>57527</td>\n",
              "      <td>2966</td>\n",
              "      <td>15954</td>\n",
              "      <td>https://i.ytimg.com/vi/2kyS6SvSYSE/default.jpg</td>\n",
              "      <td>False</td>\n",
              "      <td>False</td>\n",
              "      <td>False</td>\n",
              "      <td>SHANTELL'S CHANNEL - https://www.youtube.com/s...</td>\n",
              "      <td>People &amp; Blogs</td>\n",
              "    </tr>\n",
              "    <tr>\n",
              "      <th>1</th>\n",
              "      <td>1ZAPwfrtAFY</td>\n",
              "      <td>17.14.11</td>\n",
              "      <td>The Trump Presidency: Last Week Tonight with J...</td>\n",
              "      <td>LastWeekTonight</td>\n",
              "      <td>24</td>\n",
              "      <td>2017-11-13T07:30:00.000Z</td>\n",
              "      <td>last week tonight trump presidency|\"last week ...</td>\n",
              "      <td>2418783</td>\n",
              "      <td>97185</td>\n",
              "      <td>6146</td>\n",
              "      <td>12703</td>\n",
              "      <td>https://i.ytimg.com/vi/1ZAPwfrtAFY/default.jpg</td>\n",
              "      <td>False</td>\n",
              "      <td>False</td>\n",
              "      <td>False</td>\n",
              "      <td>One year after the presidential election, John...</td>\n",
              "      <td>Entertainment</td>\n",
              "    </tr>\n",
              "    <tr>\n",
              "      <th>2</th>\n",
              "      <td>5qpjK5DgCt4</td>\n",
              "      <td>17.14.11</td>\n",
              "      <td>Racist Superman | Rudy Mancuso, King Bach &amp; Le...</td>\n",
              "      <td>Rudy Mancuso</td>\n",
              "      <td>23</td>\n",
              "      <td>2017-11-12T19:05:24.000Z</td>\n",
              "      <td>racist superman|\"rudy\"|\"mancuso\"|\"king\"|\"bach\"...</td>\n",
              "      <td>3191434</td>\n",
              "      <td>146033</td>\n",
              "      <td>5339</td>\n",
              "      <td>8181</td>\n",
              "      <td>https://i.ytimg.com/vi/5qpjK5DgCt4/default.jpg</td>\n",
              "      <td>False</td>\n",
              "      <td>False</td>\n",
              "      <td>False</td>\n",
              "      <td>WATCH MY PREVIOUS VIDEO ▶ \\n\\nSUBSCRIBE ► http...</td>\n",
              "      <td>Comedy</td>\n",
              "    </tr>\n",
              "    <tr>\n",
              "      <th>3</th>\n",
              "      <td>puqaWrEC7tY</td>\n",
              "      <td>17.14.11</td>\n",
              "      <td>Nickelback Lyrics: Real or Fake?</td>\n",
              "      <td>Good Mythical Morning</td>\n",
              "      <td>24</td>\n",
              "      <td>2017-11-13T11:00:04.000Z</td>\n",
              "      <td>rhett and link|\"gmm\"|\"good mythical morning\"|\"...</td>\n",
              "      <td>343168</td>\n",
              "      <td>10172</td>\n",
              "      <td>666</td>\n",
              "      <td>2146</td>\n",
              "      <td>https://i.ytimg.com/vi/puqaWrEC7tY/default.jpg</td>\n",
              "      <td>False</td>\n",
              "      <td>False</td>\n",
              "      <td>False</td>\n",
              "      <td>Today we find out if Link is a Nickelback amat...</td>\n",
              "      <td>Entertainment</td>\n",
              "    </tr>\n",
              "    <tr>\n",
              "      <th>4</th>\n",
              "      <td>d380meD0W0M</td>\n",
              "      <td>17.14.11</td>\n",
              "      <td>I Dare You: GOING BALD!?</td>\n",
              "      <td>nigahiga</td>\n",
              "      <td>24</td>\n",
              "      <td>2017-11-12T18:01:41.000Z</td>\n",
              "      <td>ryan|\"higa\"|\"higatv\"|\"nigahiga\"|\"i dare you\"|\"...</td>\n",
              "      <td>2095731</td>\n",
              "      <td>132235</td>\n",
              "      <td>1989</td>\n",
              "      <td>17518</td>\n",
              "      <td>https://i.ytimg.com/vi/d380meD0W0M/default.jpg</td>\n",
              "      <td>False</td>\n",
              "      <td>False</td>\n",
              "      <td>False</td>\n",
              "      <td>I know it's been a while since we did this sho...</td>\n",
              "      <td>Entertainment</td>\n",
              "    </tr>\n",
              "  </tbody>\n",
              "</table>\n",
              "</div>"
            ],
            "text/plain": [
              "      video_id  ...  category_title\n",
              "0  2kyS6SvSYSE  ...  People & Blogs\n",
              "1  1ZAPwfrtAFY  ...   Entertainment\n",
              "2  5qpjK5DgCt4  ...          Comedy\n",
              "3  puqaWrEC7tY  ...   Entertainment\n",
              "4  d380meD0W0M  ...   Entertainment\n",
              "\n",
              "[5 rows x 17 columns]"
            ]
          },
          "metadata": {
            "tags": []
          },
          "execution_count": 14
        }
      ]
    },
    {
      "cell_type": "code",
      "metadata": {
        "id": "lh2VjvK2A2DB"
      },
      "source": [
        "#now lets join the all ds data files\r\n",
        "dataset=pd.concat([ds1,ds2,ds3],ignore_index=True)"
      ],
      "execution_count": 15,
      "outputs": []
    },
    {
      "cell_type": "code",
      "metadata": {
        "colab": {
          "base_uri": "https://localhost:8080/"
        },
        "id": "rOVjIoNRBJJi",
        "outputId": "30bf2c06-2ca6-4442-ef8a-a434f8acc94f"
      },
      "source": [
        "len(dataset)"
      ],
      "execution_count": 16,
      "outputs": [
        {
          "output_type": "execute_result",
          "data": {
            "text/plain": [
              "120746"
            ]
          },
          "metadata": {
            "tags": []
          },
          "execution_count": 16
        }
      ]
    },
    {
      "cell_type": "code",
      "metadata": {
        "id": "tvjr_Xm5BKmp"
      },
      "source": [
        "#now let's drop the duplicate videos based on video id\r\n",
        "dataset=dataset.drop_duplicates('video_id')"
      ],
      "execution_count": 17,
      "outputs": []
    },
    {
      "cell_type": "code",
      "metadata": {
        "colab": {
          "base_uri": "https://localhost:8080/"
        },
        "id": "PHdMGS2GBclG",
        "outputId": "8d56c60f-f60f-4317-c983-0c00297d1a54"
      },
      "source": [
        "len(dataset)"
      ],
      "execution_count": 18,
      "outputs": [
        {
          "output_type": "execute_result",
          "data": {
            "text/plain": [
              "30318"
            ]
          },
          "metadata": {
            "tags": []
          },
          "execution_count": 18
        }
      ]
    },
    {
      "cell_type": "code",
      "metadata": {
        "colab": {
          "base_uri": "https://localhost:8080/"
        },
        "id": "hHS6LcVHJRWt",
        "outputId": "7b426b49-1d41-4512-a9bd-15121ae8b4cf"
      },
      "source": [
        "dataset['category_title'].unique()"
      ],
      "execution_count": 22,
      "outputs": [
        {
          "output_type": "execute_result",
          "data": {
            "text/plain": [
              "array(['People & Blogs', 'Entertainment', 'Comedy',\n",
              "       'Science & Technology', 'Film & Animation', 'News & Politics',\n",
              "       'Sports', 'Music', 'Pets & Animals', 'Education', 'Howto & Style',\n",
              "       'Autos & Vehicles', 'Travel & Events', 'Gaming',\n",
              "       'Nonprofits & Activism', 'Shows', nan, 'Movies'], dtype=object)"
            ]
          },
          "metadata": {
            "tags": []
          },
          "execution_count": 22
        }
      ]
    },
    {
      "cell_type": "code",
      "metadata": {
        "id": "jzAagHceBeBn"
      },
      "source": [
        "#let's choose entertainment category\r\n",
        "ct_name='Entertainment'\r\n",
        "ct_category=dataset[dataset['category_title']==ct_name]['title']"
      ],
      "execution_count": 43,
      "outputs": []
    },
    {
      "cell_type": "code",
      "metadata": {
        "colab": {
          "base_uri": "https://localhost:8080/"
        },
        "id": "kCJvGVkCF4wn",
        "outputId": "266fba98-481e-433e-ff25-4d00ec240b68"
      },
      "source": [
        "len(ct_category)"
      ],
      "execution_count": 44,
      "outputs": [
        {
          "output_type": "execute_result",
          "data": {
            "text/plain": [
              "9730"
            ]
          },
          "metadata": {
            "tags": []
          },
          "execution_count": 44
        }
      ]
    },
    {
      "cell_type": "code",
      "metadata": {
        "colab": {
          "base_uri": "https://localhost:8080/"
        },
        "id": "paM5euuJGs04",
        "outputId": "54a30461-db90-4507-ff30-94a31b4ddcf4"
      },
      "source": [
        "ct_category.head()"
      ],
      "execution_count": 45,
      "outputs": [
        {
          "output_type": "execute_result",
          "data": {
            "text/plain": [
              "1     The Trump Presidency: Last Week Tonight with J...\n",
              "3                      Nickelback Lyrics: Real or Fake?\n",
              "4                              I Dare You: GOING BALD!?\n",
              "6             Roy Moore & Jeff Sessions Cold Open - SNL\n",
              "11    (SPOILERS) 'Shiva Saves the Day' Talked About ...\n",
              "Name: title, dtype: object"
            ]
          },
          "metadata": {
            "tags": []
          },
          "execution_count": 45
        }
      ]
    },
    {
      "cell_type": "code",
      "metadata": {
        "id": "0n2D6V5fGw_1"
      },
      "source": [
        "ct_category = ct_category.tolist()"
      ],
      "execution_count": 46,
      "outputs": []
    },
    {
      "cell_type": "code",
      "metadata": {
        "id": "tpImnJkbG2KA"
      },
      "source": [
        "#now let's remove punctuation and convert text to lowercase\r\n",
        "def clean_text(text):\r\n",
        "  text=''.join(e for e in text if e not in string.punctuation).lower()\r\n",
        "  text = text.encode('utf8').decode('ascii', 'ignore')\r\n",
        "  return text"
      ],
      "execution_count": 47,
      "outputs": []
    },
    {
      "cell_type": "code",
      "metadata": {
        "id": "BqZXCcSYHT3c"
      },
      "source": [
        "corpus=[clean_text(e) for e in ct_category]"
      ],
      "execution_count": 48,
      "outputs": []
    },
    {
      "cell_type": "code",
      "metadata": {
        "colab": {
          "base_uri": "https://localhost:8080/"
        },
        "id": "gv90m1v5Heq7",
        "outputId": "81244021-f401-45cd-b503-a9761d83f0a1"
      },
      "source": [
        "corpus[:5]"
      ],
      "execution_count": 49,
      "outputs": [
        {
          "output_type": "execute_result",
          "data": {
            "text/plain": [
              "['the trump presidency last week tonight with john oliver hbo',\n",
              " 'nickelback lyrics real or fake',\n",
              " 'i dare you going bald',\n",
              " 'roy moore  jeff sessions cold open  snl',\n",
              " 'spoilers shiva saves the day talked about scene ep 804  the walking dead']"
            ]
          },
          "metadata": {
            "tags": []
          },
          "execution_count": 49
        }
      ]
    },
    {
      "cell_type": "code",
      "metadata": {
        "id": "zGOQDBSSHgiL"
      },
      "source": [
        "tokenizer=Tokenizer()"
      ],
      "execution_count": 50,
      "outputs": []
    },
    {
      "cell_type": "code",
      "metadata": {
        "id": "xAikkvQ9I9Pj"
      },
      "source": [
        "def get_sequence_of_tokens(corpus):\r\n",
        "  tokenizer.fit_on_texts(corpus)\r\n",
        "  total_words = len(tokenizer.word_index) + 1\r\n",
        "  \r\n",
        "  #convert to sequence of tokens\r\n",
        "  input_sequences=[]\r\n",
        "  for line in corpus:\r\n",
        "    token_list=tokenizer.texts_to_sequences([line])[0]\r\n",
        "    for i in range(1,len(token_list)):\r\n",
        "      n_gram_sequence=token_list[:i+1]\r\n",
        "      input_sequences.append(n_gram_sequence)\r\n",
        "  return input_sequences,total_words"
      ],
      "execution_count": 51,
      "outputs": []
    },
    {
      "cell_type": "code",
      "metadata": {
        "id": "QrsvGYCYJQRs"
      },
      "source": [
        "inp_sequences, total_words = get_sequence_of_tokens(corpus)"
      ],
      "execution_count": 52,
      "outputs": []
    },
    {
      "cell_type": "code",
      "metadata": {
        "colab": {
          "base_uri": "https://localhost:8080/"
        },
        "id": "uusxcDtBKuz7",
        "outputId": "e0507309-377b-47d8-db25-b7ae3ddc239f"
      },
      "source": [
        "total_words"
      ],
      "execution_count": 53,
      "outputs": [
        {
          "output_type": "execute_result",
          "data": {
            "text/plain": [
              "13915"
            ]
          },
          "metadata": {
            "tags": []
          },
          "execution_count": 53
        }
      ]
    },
    {
      "cell_type": "code",
      "metadata": {
        "id": "D5OOxRjBLJ5b"
      },
      "source": [
        "def generate_padding_sequences(input_sequences):\r\n",
        "  max_sequence_len = max([len(x) for x in input_sequences])\r\n",
        "  input_sequences = np.array(pad_sequences(input_sequences,  maxlen=max_sequence_len, padding='pre'))\r\n",
        "  predictors, label = input_sequences[:,:-1], input_sequences[:, -1]\r\n",
        "  label = ut.to_categorical(label, num_classes = total_words)\r\n",
        "  return predictors, label, max_sequence_len"
      ],
      "execution_count": 54,
      "outputs": []
    },
    {
      "cell_type": "code",
      "metadata": {
        "id": "e7CBzdPXiuI3"
      },
      "source": [
        "predictors, label, max_sequence_len = generate_padding_sequences(inp_sequences)"
      ],
      "execution_count": 55,
      "outputs": []
    },
    {
      "cell_type": "code",
      "metadata": {
        "id": "fhrlD9RzLP5u"
      },
      "source": [
        "#create lstm model\r\n",
        "def create_model(max_seq_length,total_words):\r\n",
        "  input_len=max_sequence_len-1\r\n",
        "  model=Sequential()\r\n",
        "  model.add(Embedding(total_words,10,input_length=input_len))\r\n",
        "  model.add(LSTM(100))\r\n",
        "  model.add(Dropout(0.1))\r\n",
        "  model.add(Dense(total_words, activation='softmax'))\r\n",
        "  model.compile(loss='categorical_crossentropy', optimizer='adam')\r\n",
        "  return model"
      ],
      "execution_count": 56,
      "outputs": []
    },
    {
      "cell_type": "code",
      "metadata": {
        "id": "2LoIhcPSib4n"
      },
      "source": [
        "model=create_model(max_sequence_len,total_words)"
      ],
      "execution_count": 57,
      "outputs": []
    },
    {
      "cell_type": "code",
      "metadata": {
        "colab": {
          "base_uri": "https://localhost:8080/"
        },
        "id": "dzuD5O5GjFfV",
        "outputId": "737cdc8d-f278-4270-e513-2a720b6560a6"
      },
      "source": [
        "model.fit(predictors, label, epochs=100)"
      ],
      "execution_count": 58,
      "outputs": [
        {
          "output_type": "stream",
          "text": [
            "Epoch 1/100\n",
            "2202/2202 [==============================] - 17s 7ms/step - loss: 8.1983\n",
            "Epoch 2/100\n",
            "2202/2202 [==============================] - 16s 7ms/step - loss: 7.1825\n",
            "Epoch 3/100\n",
            "2202/2202 [==============================] - 16s 7ms/step - loss: 6.6457\n",
            "Epoch 4/100\n",
            "2202/2202 [==============================] - 16s 7ms/step - loss: 6.1994\n",
            "Epoch 5/100\n",
            "2202/2202 [==============================] - 16s 7ms/step - loss: 5.8506\n",
            "Epoch 6/100\n",
            "2202/2202 [==============================] - 16s 7ms/step - loss: 5.4778\n",
            "Epoch 7/100\n",
            "2202/2202 [==============================] - 16s 7ms/step - loss: 5.1233\n",
            "Epoch 8/100\n",
            "2202/2202 [==============================] - 15s 7ms/step - loss: 4.8367\n",
            "Epoch 9/100\n",
            "2202/2202 [==============================] - 16s 7ms/step - loss: 4.5688\n",
            "Epoch 10/100\n",
            "2202/2202 [==============================] - 16s 7ms/step - loss: 4.3286\n",
            "Epoch 11/100\n",
            "2202/2202 [==============================] - 16s 7ms/step - loss: 4.1085\n",
            "Epoch 12/100\n",
            "2202/2202 [==============================] - 16s 7ms/step - loss: 3.9031\n",
            "Epoch 13/100\n",
            "2202/2202 [==============================] - 16s 7ms/step - loss: 3.7036\n",
            "Epoch 14/100\n",
            "2202/2202 [==============================] - 16s 7ms/step - loss: 3.5387\n",
            "Epoch 15/100\n",
            "2202/2202 [==============================] - 16s 7ms/step - loss: 3.3691\n",
            "Epoch 16/100\n",
            "2202/2202 [==============================] - 16s 7ms/step - loss: 3.2010\n",
            "Epoch 17/100\n",
            "2202/2202 [==============================] - 16s 7ms/step - loss: 3.0541\n",
            "Epoch 18/100\n",
            "2202/2202 [==============================] - 15s 7ms/step - loss: 2.9420\n",
            "Epoch 19/100\n",
            "2202/2202 [==============================] - 16s 7ms/step - loss: 2.8174\n",
            "Epoch 20/100\n",
            "2202/2202 [==============================] - 15s 7ms/step - loss: 2.7085\n",
            "Epoch 21/100\n",
            "2202/2202 [==============================] - 16s 7ms/step - loss: 2.6037\n",
            "Epoch 22/100\n",
            "2202/2202 [==============================] - 16s 7ms/step - loss: 2.5035\n",
            "Epoch 23/100\n",
            "2202/2202 [==============================] - 16s 7ms/step - loss: 2.4182\n",
            "Epoch 24/100\n",
            "2202/2202 [==============================] - 16s 7ms/step - loss: 2.3464\n",
            "Epoch 25/100\n",
            "2202/2202 [==============================] - 16s 7ms/step - loss: 2.2910\n",
            "Epoch 26/100\n",
            "2202/2202 [==============================] - 15s 7ms/step - loss: 2.2012\n",
            "Epoch 27/100\n",
            "2202/2202 [==============================] - 16s 7ms/step - loss: 2.1356\n",
            "Epoch 28/100\n",
            "2202/2202 [==============================] - 16s 7ms/step - loss: 2.0740\n",
            "Epoch 29/100\n",
            "2202/2202 [==============================] - 15s 7ms/step - loss: 2.0180\n",
            "Epoch 30/100\n",
            "2202/2202 [==============================] - 16s 7ms/step - loss: 1.9860\n",
            "Epoch 31/100\n",
            "2202/2202 [==============================] - 16s 7ms/step - loss: 1.9354\n",
            "Epoch 32/100\n",
            "2202/2202 [==============================] - 15s 7ms/step - loss: 1.8797\n",
            "Epoch 33/100\n",
            "2202/2202 [==============================] - 15s 7ms/step - loss: 1.8503\n",
            "Epoch 34/100\n",
            "2202/2202 [==============================] - 15s 7ms/step - loss: 1.8194\n",
            "Epoch 35/100\n",
            "2202/2202 [==============================] - 15s 7ms/step - loss: 1.7696\n",
            "Epoch 36/100\n",
            "2202/2202 [==============================] - 15s 7ms/step - loss: 1.7413\n",
            "Epoch 37/100\n",
            "2202/2202 [==============================] - 15s 7ms/step - loss: 1.7098\n",
            "Epoch 38/100\n",
            "2202/2202 [==============================] - 16s 7ms/step - loss: 1.6711\n",
            "Epoch 39/100\n",
            "2202/2202 [==============================] - 16s 7ms/step - loss: 1.6571\n",
            "Epoch 40/100\n",
            "2202/2202 [==============================] - 16s 7ms/step - loss: 1.6205\n",
            "Epoch 41/100\n",
            "2202/2202 [==============================] - 15s 7ms/step - loss: 1.6118\n",
            "Epoch 42/100\n",
            "2202/2202 [==============================] - 16s 7ms/step - loss: 1.5864\n",
            "Epoch 43/100\n",
            "2202/2202 [==============================] - 16s 7ms/step - loss: 1.5634\n",
            "Epoch 44/100\n",
            "2202/2202 [==============================] - 16s 7ms/step - loss: 1.5462\n",
            "Epoch 45/100\n",
            "2202/2202 [==============================] - 16s 7ms/step - loss: 1.5119\n",
            "Epoch 46/100\n",
            "2202/2202 [==============================] - 16s 7ms/step - loss: 1.4997\n",
            "Epoch 47/100\n",
            "2202/2202 [==============================] - 15s 7ms/step - loss: 1.4764\n",
            "Epoch 48/100\n",
            "2202/2202 [==============================] - 15s 7ms/step - loss: 1.4630\n",
            "Epoch 49/100\n",
            "2202/2202 [==============================] - 16s 7ms/step - loss: 1.4296\n",
            "Epoch 50/100\n",
            "2202/2202 [==============================] - 16s 7ms/step - loss: 1.4375\n",
            "Epoch 51/100\n",
            "2202/2202 [==============================] - 16s 7ms/step - loss: 1.4056\n",
            "Epoch 52/100\n",
            "2202/2202 [==============================] - 16s 7ms/step - loss: 1.4019\n",
            "Epoch 53/100\n",
            "2202/2202 [==============================] - 16s 7ms/step - loss: 1.3881\n",
            "Epoch 54/100\n",
            "2202/2202 [==============================] - 16s 7ms/step - loss: 1.3659\n",
            "Epoch 55/100\n",
            "2202/2202 [==============================] - 16s 7ms/step - loss: 1.3654\n",
            "Epoch 56/100\n",
            "2202/2202 [==============================] - 16s 7ms/step - loss: 1.3532\n",
            "Epoch 57/100\n",
            "2202/2202 [==============================] - 16s 7ms/step - loss: 1.3426\n",
            "Epoch 58/100\n",
            "2202/2202 [==============================] - 16s 7ms/step - loss: 1.3242\n",
            "Epoch 59/100\n",
            "2202/2202 [==============================] - 15s 7ms/step - loss: 1.3291\n",
            "Epoch 60/100\n",
            "2202/2202 [==============================] - 16s 7ms/step - loss: 1.3230\n",
            "Epoch 61/100\n",
            "2202/2202 [==============================] - 16s 7ms/step - loss: 1.2886\n",
            "Epoch 62/100\n",
            "2202/2202 [==============================] - 16s 7ms/step - loss: 1.2948\n",
            "Epoch 63/100\n",
            "2202/2202 [==============================] - 16s 7ms/step - loss: 1.2823\n",
            "Epoch 64/100\n",
            "2202/2202 [==============================] - 16s 7ms/step - loss: 1.2582\n",
            "Epoch 65/100\n",
            "2202/2202 [==============================] - 16s 7ms/step - loss: 1.2666\n",
            "Epoch 66/100\n",
            "2202/2202 [==============================] - 16s 7ms/step - loss: 1.2424\n",
            "Epoch 67/100\n",
            "2202/2202 [==============================] - 16s 7ms/step - loss: 1.2454\n",
            "Epoch 68/100\n",
            "2202/2202 [==============================] - 16s 7ms/step - loss: 1.2400\n",
            "Epoch 69/100\n",
            "2202/2202 [==============================] - 16s 7ms/step - loss: 1.2309\n",
            "Epoch 70/100\n",
            "2202/2202 [==============================] - 16s 7ms/step - loss: 1.2356\n",
            "Epoch 71/100\n",
            "2202/2202 [==============================] - 16s 7ms/step - loss: 1.2338\n",
            "Epoch 72/100\n",
            "2202/2202 [==============================] - 16s 7ms/step - loss: 1.2177\n",
            "Epoch 73/100\n",
            "2202/2202 [==============================] - 16s 7ms/step - loss: 1.2003\n",
            "Epoch 74/100\n",
            "2202/2202 [==============================] - 16s 7ms/step - loss: 1.2017\n",
            "Epoch 75/100\n",
            "2202/2202 [==============================] - 16s 7ms/step - loss: 1.1986\n",
            "Epoch 76/100\n",
            "2202/2202 [==============================] - 16s 7ms/step - loss: 1.2015\n",
            "Epoch 77/100\n",
            "2202/2202 [==============================] - 16s 7ms/step - loss: 1.1720\n",
            "Epoch 78/100\n",
            "2202/2202 [==============================] - 16s 7ms/step - loss: 1.1719\n",
            "Epoch 79/100\n",
            "2202/2202 [==============================] - 16s 7ms/step - loss: 1.1876\n",
            "Epoch 80/100\n",
            "2202/2202 [==============================] - 16s 7ms/step - loss: 1.1652\n",
            "Epoch 81/100\n",
            "2202/2202 [==============================] - 16s 7ms/step - loss: 1.1623\n",
            "Epoch 82/100\n",
            "2202/2202 [==============================] - 16s 7ms/step - loss: 1.1660\n",
            "Epoch 83/100\n",
            "2202/2202 [==============================] - 15s 7ms/step - loss: 1.1532\n",
            "Epoch 84/100\n",
            "2202/2202 [==============================] - 15s 7ms/step - loss: 1.1487\n",
            "Epoch 85/100\n",
            "2202/2202 [==============================] - 16s 7ms/step - loss: 1.1465\n",
            "Epoch 86/100\n",
            "2202/2202 [==============================] - 16s 7ms/step - loss: 1.1370\n",
            "Epoch 87/100\n",
            "2202/2202 [==============================] - 16s 7ms/step - loss: 1.1253\n",
            "Epoch 88/100\n",
            "2202/2202 [==============================] - 15s 7ms/step - loss: 1.1399\n",
            "Epoch 89/100\n",
            "2202/2202 [==============================] - 16s 7ms/step - loss: 1.1195\n",
            "Epoch 90/100\n",
            "2202/2202 [==============================] - 15s 7ms/step - loss: 1.1352\n",
            "Epoch 91/100\n",
            "2202/2202 [==============================] - 16s 7ms/step - loss: 1.1232\n",
            "Epoch 92/100\n",
            "2202/2202 [==============================] - 16s 7ms/step - loss: 1.1135\n",
            "Epoch 93/100\n",
            "2202/2202 [==============================] - 16s 7ms/step - loss: 1.1224\n",
            "Epoch 94/100\n",
            "2202/2202 [==============================] - 16s 7ms/step - loss: 1.1109\n",
            "Epoch 95/100\n",
            "2202/2202 [==============================] - 15s 7ms/step - loss: 1.1069\n",
            "Epoch 96/100\n",
            "2202/2202 [==============================] - 16s 7ms/step - loss: 1.1208\n",
            "Epoch 97/100\n",
            "2202/2202 [==============================] - 16s 7ms/step - loss: 1.1080\n",
            "Epoch 98/100\n",
            "2202/2202 [==============================] - 16s 7ms/step - loss: 1.1072\n",
            "Epoch 99/100\n",
            "2202/2202 [==============================] - 16s 7ms/step - loss: 1.1094\n",
            "Epoch 100/100\n",
            "2202/2202 [==============================] - 16s 7ms/step - loss: 1.0899\n"
          ],
          "name": "stdout"
        },
        {
          "output_type": "execute_result",
          "data": {
            "text/plain": [
              "<tensorflow.python.keras.callbacks.History at 0x7fec4190f490>"
            ]
          },
          "metadata": {
            "tags": []
          },
          "execution_count": 58
        }
      ]
    },
    {
      "cell_type": "code",
      "metadata": {
        "id": "KrFVZPeDjF_d"
      },
      "source": [
        "def generate_text(seed_text, next_words, model, max_sequence_len):\r\n",
        "  for i in range(next_words):\r\n",
        "    token_list = tokenizer.texts_to_sequences([seed_text])[0]\r\n",
        "    token_list = pad_sequences([token_list], maxlen=max_sequence_len-1,  padding='pre')\r\n",
        "    predicted = model.predict_classes(token_list, verbose=0)\r\n",
        " \r\n",
        "    output_word = \" \"\r\n",
        "    for word,index in tokenizer.word_index.items():\r\n",
        "      if index == predicted:\r\n",
        "        output_word = word\r\n",
        "        break\r\n",
        "    seed_text += \" \"+output_word\r\n",
        "  return seed_text.title()"
      ],
      "execution_count": 64,
      "outputs": []
    },
    {
      "cell_type": "code",
      "metadata": {
        "id": "aoPQapajo6L0",
        "colab": {
          "base_uri": "https://localhost:8080/"
        },
        "outputId": "43af6aa6-5ab0-4fd6-b307-3b70591e8ed7"
      },
      "source": [
        "print(generate_text(\"avengers Fight\", 5, model, max_sequence_len))"
      ],
      "execution_count": 70,
      "outputs": [
        {
          "output_type": "stream",
          "text": [
            "Avengers Fight Ep 1 April 2018 Promo\n"
          ],
          "name": "stdout"
        },
        {
          "output_type": "stream",
          "text": [
            "/usr/local/lib/python3.7/dist-packages/tensorflow/python/keras/engine/sequential.py:450: UserWarning: `model.predict_classes()` is deprecated and will be removed after 2021-01-01. Please use instead:* `np.argmax(model.predict(x), axis=-1)`,   if your model does multi-class classification   (e.g. if it uses a `softmax` last-layer activation).* `(model.predict(x) > 0.5).astype(\"int32\")`,   if your model does binary classification   (e.g. if it uses a `sigmoid` last-layer activation).\n",
            "  warnings.warn('`model.predict_classes()` is deprecated and '\n"
          ],
          "name": "stderr"
        }
      ]
    },
    {
      "cell_type": "code",
      "metadata": {
        "id": "9NnWgF6wsd3T"
      },
      "source": [
        ""
      ],
      "execution_count": null,
      "outputs": []
    }
  ]
}